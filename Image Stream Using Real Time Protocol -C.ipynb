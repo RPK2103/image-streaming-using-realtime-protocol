{
 "cells": [
  {
   "cell_type": "code",
   "execution_count": null,
   "metadata": {},
   "outputs": [
    {
     "name": "stdout",
     "output_type": "stream",
     "text": [
      "You are now logged in\n",
      "Connection established, sent message to server\n",
      "File location : C:/Users/hanis/Downloads/Hackillinois Selection Mail.jpeg\n",
      "File Type : jpeg\n",
      "Encoded Byte Data : \n",
      "Length of Data : 55922\n"
     ]
    },
    {
     "name": "stderr",
     "output_type": "stream",
     "text": [
      "<ipython-input-17-4959d4d104db>:24: DeprecationWarning: tostring() is deprecated. Use tobytes() instead.\n",
      "  data=data_encode.tostring()\n"
     ]
    }
   ],
   "source": [
    "import socket\n",
    "import sys\n",
    "import tkinter as tk\n",
    "from tkinter import *\n",
    "from tkinter.filedialog import askopenfile\n",
    "import cv2\n",
    "import numpy as np\n",
    "import struct\n",
    "window = tk.Tk()\n",
    "window.geometry(\"250x200\")\n",
    "window.title(\"Login\")\n",
    "username_value=tk.StringVar()\n",
    "password_value=tk.StringVar()\n",
    "def upload():\n",
    "    filepath=filedialog.askopenfilename(filetypes=[(\"image\", \".jpeg\"),(\"image\", \".png\"),(\"image\", \".jpg\")])\n",
    "    print(\"File location : \"+filepath)\n",
    "    extension = filepath.split('.', 1)\n",
    "    print(\"File Type : \"+extension[1])\n",
    "    img=cv2.imread (filepath)\n",
    "    img_encode=cv2.imencode (\".\"+extension[1], img)[1]\n",
    "    data_encode=np.array (img_encode)\n",
    "    data=data_encode.tostring()\n",
    "    print(\"Length of Data : \"+ str(len(data)))\n",
    "    print(\"Encoded Byte Data : \")\n",
    "    print(img_encode.tobytes())\n",
    "    #Defining file headers,Packaging into a structure\n",
    "    \n",
    "    fhead=struct.pack (\"l\", len (data))\n",
    "    \n",
    "    #Send file header:\n",
    "    \n",
    "    clientSock.sendto (fhead, (\"127.0.0.1\", 20001))\n",
    "    \n",
    "    #Cyclic picture stream\n",
    "    \n",
    "    for i in range (len (data) //1024 + 1):\n",
    "        if 1024 * (i + 1)>len (data):\n",
    "            #checks if any data is left and sends it irrespective of size\n",
    "            clientSock.sendto (data [1024 * i:], (\"127.0.0.1\", 20001))\n",
    "        else:\n",
    "            #sends data with a size of 1024\n",
    "            clientSock.sendto (data [1024 * i:1024 * (i + 1)], (\"127.0.0.1\", 20001))\n",
    "\n",
    "def submit_login():\n",
    "    username=username_value.get()\n",
    "    password=password_value.get()\n",
    "    if(username==\"client\" and password==\"client\"):\n",
    "        print(\"You are now logged in\")\n",
    "        window.destroy()\n",
    "        global clientSock\n",
    "        clientSock = socket.socket(socket.AF_INET, socket.SOCK_DGRAM)\n",
    "        clientSock.sendto(\"Client connection established\".encode(), (\"127.0.0.1\", 20001))\n",
    "        print(\"Connection established, sent message to server\")\n",
    "        upload_file=tk.Tk()\n",
    "        upload_file.geometry(\"400x300\")\n",
    "        upload_file.title(\"Upload an Image\")\n",
    "        tk.Label(upload_file,text=\"Upload an Image\", font=\"times 15 bold\", width=30).grid(row=1,column=1)\n",
    "        tk.Button(text=\"Upload an Image\",width=20,command=upload).grid(row=2, column=1)\n",
    "        \n",
    "    else:\n",
    "        print(\"Error\")\n",
    "tk.Label(window,text=\"Client Login\", font=\"times 15 bold\").grid(row=0,column=3)\n",
    "username=tk.Label(window,text=\"Username\").grid(row=1,column=2,padx=10,pady=10)\n",
    "password=tk.Label(window,text=\"Password\").grid(row=2,column=2,padx=10)\n",
    "username_box=tk.Entry(window,textvariable=username_value).grid(row=1,column=3)\n",
    "password_box=tk.Entry(window,textvariable=password_value,show=\"*\").grid(row=2,column=3)\n",
    "tk.Button(text=\"Login\",command=submit_login).grid(row=4, column=3,pady=20)\n",
    "window.mainloop()"
   ]
  },
  {
   "cell_type": "code",
   "execution_count": null,
   "metadata": {},
   "outputs": [],
   "source": []
  },
  {
   "cell_type": "code",
   "execution_count": null,
   "metadata": {},
   "outputs": [],
   "source": []
  }
 ],
 "metadata": {
  "kernelspec": {
   "display_name": "Python 3",
   "language": "python",
   "name": "python3"
  },
  "language_info": {
   "codemirror_mode": {
    "name": "ipython",
    "version": 3
   },
   "file_extension": ".py",
   "mimetype": "text/x-python",
   "name": "python",
   "nbconvert_exporter": "python",
   "pygments_lexer": "ipython3",
   "version": "3.8.5"
  }
 },
 "nbformat": 4,
 "nbformat_minor": 4
}
