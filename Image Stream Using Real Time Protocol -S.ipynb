{
 "cells": [
  {
   "cell_type": "code",
   "execution_count": 3,
   "metadata": {},
   "outputs": [],
   "source": [
    "import socket\n",
    "import sys\n",
    "import tkinter as tk\n",
    "import struct\n",
    "window = tk.Tk()\n",
    "window.geometry(\"250x200\")\n",
    "window.title(\"Login\")\n",
    "username_value=tk.StringVar()\n",
    "password_value=tk.StringVar()\n",
    "def submit_login():\n",
    "    username=username_value.get()\n",
    "    password=password_value.get()\n",
    "    if(username==\"admin\" and password==\"admin\"):\n",
    "        print(\"You are now logged in\")\n",
    "        window.destroy()\n",
    "        # Create a datagram socket\n",
    "\n",
    "        UDPServerSocket = socket.socket(family=socket.AF_INET, type=socket.SOCK_DGRAM)\n",
    "\n",
    "        # Bind to address and ip\n",
    "\n",
    "        UDPServerSocket.bind((\"127.0.0.1\", 20001))\n",
    "\n",
    "        print(\"UDP server up and listening\")\n",
    "        \n",
    "        connection,addr = UDPServerSocket.recvfrom(1024)\n",
    "        print(\"\\n\"+connection.decode())\n",
    "        # Receive file header,The length of the file header\n",
    "        while True : \n",
    "            fhead_size=struct.calcsize (\"l\")\n",
    "            buf, addr=UDPServerSocket.recvfrom (fhead_size)\n",
    "            if buf:\n",
    "                #returns tuple\n",
    "                data_size=struct.unpack(\"l\",buf)[0]\n",
    "                #receive size and data\n",
    "                recv_size=0\n",
    "                data_total=b\"\"\n",
    "                while not recv_size ==data_size:\n",
    "                    if data_size - recv_size>1024:\n",
    "                        data,addr=UDPServerSocket.recvfrom(1024)\n",
    "                        recv_size+=len(data)\n",
    "                    else:\n",
    "                        data,addr=UDPServerSocket.recvfrom(1024)\n",
    "                        recv_size=data_size\n",
    "                        data_total+=data\n",
    "                        print(\"Image received\")\n",
    "                    \n",
    "    else:\n",
    "        print(\"Error\")\n",
    "tk.Label(window,text=\"Server Login\", font=\"times 15 bold\").grid(row=0,column=3)\n",
    "username=tk.Label(window,text=\"Username\").grid(row=1,column=2,padx=10,pady=10)\n",
    "password=tk.Label(window,text=\"Password\").grid(row=2,column=2,padx=10)\n",
    "username_box=tk.Entry(window,textvariable=username_value).grid(row=1,column=3)\n",
    "password_box=tk.Entry(window,textvariable=password_value,show=\"*\").grid(row=2,column=3)\n",
    "tk.Button(text=\"Login\",command=submit_login).grid(row=4, column=3,pady=20)\n",
    "window.mainloop()"
   ]
  }
 ],
 "metadata": {
  "kernelspec": {
   "display_name": "Python 3",
   "language": "python",
   "name": "python3"
  },
  "language_info": {
   "codemirror_mode": {
    "name": "ipython",
    "version": 3
   },
   "file_extension": ".py",
   "mimetype": "text/x-python",
   "name": "python",
   "nbconvert_exporter": "python",
   "pygments_lexer": "ipython3",
   "version": "3.8.5"
  }
 },
 "nbformat": 4,
 "nbformat_minor": 4
}
